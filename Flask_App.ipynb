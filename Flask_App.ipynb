{
 "cells": [
  {
   "cell_type": "code",
   "execution_count": 1,
   "metadata": {},
   "outputs": [
    {
     "name": "stdout",
     "output_type": "stream",
     "text": [
      " * Serving Flask app '__main__' (lazy loading)\n",
      " * Environment: production\n",
      "\u001b[31m   WARNING: This is a development server. Do not use it in a production deployment.\u001b[0m\n",
      "\u001b[2m   Use a production WSGI server instead.\u001b[0m\n",
      " * Debug mode: off\n"
     ]
    },
    {
     "name": "stderr",
     "output_type": "stream",
     "text": [
      " * Running on http://127.0.0.1:5000 (Press CTRL+C to quit)\n"
     ]
    }
   ],
   "source": [
    "from flask import Flask, request, render_template\n",
    "import pickle\n",
    "import pandas as pd\n",
    "from random import randint\n",
    "\n",
    "# initilise Flask\n",
    "app = Flask(__name__)\n",
    "\n",
    "\n",
    "@app.route('/') # the webpage link/extension\n",
    "def main():\n",
    "    return render_template('home.html') # call to the html template named \"home.html\"\n",
    "\n",
    "# @app.route('/about')\n",
    "# def about():\n",
    "# \treturn render_template('about.html')\n",
    "\n",
    "\n",
    "# @app.route('/similarByName',methods=['POST'])\n",
    "# def similar_by_name():\n",
    "# \t# the main pythin code\n",
    "# \tdf = pd.read_csv('tmb_movies_clean.csv')\n",
    "# \tif request.method == 'POST':\n",
    "# \t\tresult = request.form\n",
    "# \tquery = result['name']\n",
    "# \tn = 0\n",
    "# \tmovie_list = []\n",
    "# \tprint('Movies with the words \"{}\" in the title:'.format(query))\n",
    "# \tfor i, name in enumerate(df.original_title):\n",
    "# \t\tif query.lower() in name.lower():\n",
    "# \t\t\tinfo = {\n",
    "# \t\t\t\t\"name\": df['original_title'][i],\n",
    "# \t\t\t\t\"rating\": df['popularity'][i],\n",
    "# \t\t\t\t\"genre\": df['genres'][i]\n",
    "# \t\t\t}\n",
    "# \t\t\tmovie_list.append(info)\n",
    "# \t\t\tn+=1\n",
    "# \treturn render_template(\"similar.html\",\n",
    "# \t\t\t\t\t\t   title='Name',\n",
    "# \t\t\t\t\t\t   name=query,\n",
    "# \t\t\t\t\t\t   topmovies=movie_list)\n",
    "\n",
    "\n",
    "# @app.route('/similarByContent',methods=['POST'])\n",
    "# def similar_by_content():\n",
    "# \tdf = pd.read_csv('tmb_movies_clean.csv')\n",
    "# \tif request.method == 'POST':\n",
    "# \t\tresult = request.form\n",
    "# \tquery = result['name']\n",
    "\n",
    "# \t#load the model file\n",
    "# \tpkl_file = open('movieindices.pkl', 'rb')\n",
    "# \tindices = pickle.load(pkl_file)\n",
    "# \tif query not in df['original_title']:\n",
    "# \t\tN = df[df['original_title'] == query].index[0]\n",
    "# \t\tmovie_list = []\n",
    "# \t\tfor n in indices[N][1:]:\n",
    "# \t\t\tinfo = {\n",
    "# \t\t\t\t\"name\": df['original_title'][n],\n",
    "# \t\t\t\t\"rating\": df['popularity'][n],\n",
    "# \t\t\t\t\"genre\": df['genres'][n]\n",
    "# \t\t\t}\n",
    "# \t\t\tmovie_list.append(info)\n",
    "\n",
    "# \t\treturn render_template(\"similar.html\",\n",
    "# \t\t\t\t\t\t   title='Content',\n",
    "# \t\t\t\t\t\t   name=query,\n",
    "# \t\t\t\t\t\t   topmovies=movie_list)\n",
    "\n",
    "# @app.route('/random',methods=['GET', 'POST'])\n",
    "# def random():\n",
    "# \tdf = pd.read_csv('tmb_movies_clean.csv')\n",
    "# \tif request.method == 'POST':\n",
    "# \t\tR = randint(0,len(df)-1)\n",
    "# \t\trand_movie = df.iloc[R]\n",
    "# \telse:\n",
    "# \t\tR = randint(0,len(df)-1)\n",
    "# \t\trand_movie = df.iloc[R]\n",
    "\n",
    "# \treturn render_template('ratings.html',\n",
    "# \t\t\tname = rand_movie['original_title'],\n",
    "# \t\t\tgenre = rand_movie['genres'],\n",
    "# \t\t\tratings = rand_movie['popularity'])\n",
    "\n",
    "\n",
    "if __name__ == '__main__':\n",
    "    # you might need to change your port number\n",
    "    # allowed values are 5000 - 5010\n",
    "\tapp.run()\n"
   ]
  },
  {
   "cell_type": "code",
   "execution_count": null,
   "metadata": {},
   "outputs": [],
   "source": []
  }
 ],
 "metadata": {
  "kernelspec": {
   "display_name": "movie_ker",
   "language": "python",
   "name": "movie_ker"
  },
  "language_info": {
   "codemirror_mode": {
    "name": "ipython",
    "version": 3
   },
   "file_extension": ".py",
   "mimetype": "text/x-python",
   "name": "python",
   "nbconvert_exporter": "python",
   "pygments_lexer": "ipython3",
   "version": "3.8.10"
  }
 },
 "nbformat": 4,
 "nbformat_minor": 4
}
